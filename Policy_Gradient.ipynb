{
 "cells": [
  {
   "cell_type": "markdown",
   "metadata": {},
   "source": [
    "# FUNCTION GENERATOR using Policy Gradient"
   ]
  },
  {
   "cell_type": "markdown",
   "metadata": {},
   "source": [
    "Useful links:\n",
    "Policy Gradient Explanation: http://karpathy.github.io/2016/05/31/rl/ <br>\n",
    "Example of Policy Gradient: https://github.com/keon/policy-gradient"
   ]
  },
  {
   "cell_type": "code",
   "execution_count": 1,
   "metadata": {},
   "outputs": [
    {
     "name": "stderr",
     "output_type": "stream",
     "text": [
      "Using TensorFlow backend.\n"
     ]
    }
   ],
   "source": [
    "import numpy as np\n",
    "from keras.models import Sequential, Model\n",
    "from keras.layers import TimeDistributed, Dense, Reshape, Flatten, GRU, Input, Embedding, LSTM\n",
    "from keras.optimizers import Adam\n",
    "from keras.layers.convolutional import Convolution2D\n",
    "from PolicyGradientModel import PolicyGradientModel\n",
    "from RewardCalculator import RewardCalculator"
   ]
  },
  {
   "cell_type": "code",
   "execution_count": 13,
   "metadata": {},
   "outputs": [],
   "source": [
    "ALLOWED_PARAMETERS = list('XY')\n",
    "ALLOWED_SYMBOLS = ALLOWED_PARAMETERS + list('0123456789+-*/#')\n",
    "NUM_SYMBOLS = len(ALLOWED_SYMBOLS)\n",
    "MAX_LENGTH = 10 # Max length of the output expression\n",
    "CORRECT_EXPRESSION = \"3*X+2*Y\""
   ]
  },
  {
   "cell_type": "markdown",
   "metadata": {},
   "source": [
    "### DEFINE MODEL"
   ]
  },
  {
   "cell_type": "code",
   "execution_count": 14,
   "metadata": {},
   "outputs": [],
   "source": [
    "def getModel():\n",
    "    # Trying to neglect input\n",
    "    input1 = Input(batch_shape=(1,MAX_LENGTH,1))\n",
    "    # TODO: Add noise layer to make output vary\n",
    "    x = LSTM(512, return_sequences=True)(input1)\n",
    "    x = LSTM(512, return_sequences=True)(input1)\n",
    "    x = LSTM(512, return_sequences=True)(input1)\n",
    "    x = Dense(100, activation='relu')(x)\n",
    "    x = Dense(100, activation='relu')(x)\n",
    "    out = Dense(NUM_SYMBOLS, activation='softmax')(x)\n",
    "    \n",
    "    model = Model(inputs=input1, outputs=out)\n",
    "    model.compile(optimizer=Adam(lr=0.00001),\n",
    "                loss='categorical_crossentropy')\n",
    "    return model"
   ]
  },
  {
   "cell_type": "code",
   "execution_count": 4,
   "metadata": {},
   "outputs": [
    {
     "data": {
      "text/plain": [
       "array([[[ 0.05882353,  0.05882353,  0.05882353,  0.05882353,  0.05882353,\n",
       "          0.05882353,  0.05882353,  0.05882353,  0.05882353,  0.05882353,\n",
       "          0.05882353,  0.05882353,  0.05882353,  0.05882353,  0.05882353,\n",
       "          0.05882353,  0.05882353]]], dtype=float32)"
      ]
     },
     "execution_count": 4,
     "metadata": {},
     "output_type": "execute_result"
    }
   ],
   "source": [
    "model = getModel()\n",
    "model.predict(np.zeros((1,MAX_LENGTH,1)))"
   ]
  },
  {
   "cell_type": "code",
   "execution_count": 5,
   "metadata": {},
   "outputs": [
    {
     "data": {
      "text/plain": [
       "array([[[ 0.05882353,  0.05882353,  0.05882353,  0.05882353,  0.05882353,\n",
       "          0.05882353,  0.05882353,  0.05882353,  0.05882353,  0.05882353,\n",
       "          0.05882353,  0.05882353,  0.05882353,  0.05882353,  0.05882353,\n",
       "          0.05882353,  0.05882353]]], dtype=float32)"
      ]
     },
     "execution_count": 5,
     "metadata": {},
     "output_type": "execute_result"
    }
   ],
   "source": [
    "model.predict(np.zeros((1,MAX_LENGTH,1)))"
   ]
  },
  {
   "cell_type": "code",
   "execution_count": 6,
   "metadata": {},
   "outputs": [
    {
     "data": {
      "text/plain": [
       "48.164627"
      ]
     },
     "execution_count": 6,
     "metadata": {},
     "output_type": "execute_result"
    }
   ],
   "source": [
    "X = np.zeros((1,MAX_LENGTH,1))\n",
    "Y = np.ones((1,MAX_LENGTH,NUM_SYMBOLS))\n",
    "model.train_on_batch(X, Y)"
   ]
  },
  {
   "cell_type": "code",
   "execution_count": 4,
   "metadata": {},
   "outputs": [],
   "source": [
    "rewardCalculator = RewardCalculator(correctExpression=CORRECT_EXPRESSION,\n",
    "                                    parameters=ALLOWED_PARAMETERS,\n",
    "                                    functionDifferenceRewardWeight=0.0,\n",
    "                                    compilableRewardWeight=0.60, \n",
    "                                    lengthRewardWeight=-0.01,\n",
    "                                    foundMathSymbolWeight=0.1,\n",
    "                                    foundVariableWeight=0.5,\n",
    "                                    rewardOffset=-0.7,\n",
    "                                    usingFile=False)"
   ]
  },
  {
   "cell_type": "code",
   "execution_count": 15,
   "metadata": {},
   "outputs": [],
   "source": [
    "model = getModel()\n",
    "pgModel = PolicyGradientModel(model=model,\n",
    "                              allowedSymbol=ALLOWED_SYMBOLS,\n",
    "                              numSymbol=NUM_SYMBOLS,\n",
    "                              maxLength=MAX_LENGTH,\n",
    "                              rewardCalculator=rewardCalculator,\n",
    "                              learningRate=0.0000000000001,\n",
    "                              fileName=\"State_test_3_forced.hdf5\")"
   ]
  },
  {
   "cell_type": "code",
   "execution_count": 16,
   "metadata": {},
   "outputs": [],
   "source": [
    "#pgModel.loadWeight(\"State_test_2.hdf5\")\n",
    "pgModel.loadWeight(\"State_test_2_forced.hdf5\")"
   ]
  },
  {
   "cell_type": "code",
   "execution_count": 17,
   "metadata": {},
   "outputs": [
    {
     "name": "stdout",
     "output_type": "stream",
     "text": [
      "Epoch: 0\tLoss: 2.47103006631\tExample Output: 2*XX3-8Y+2\tExample Reward:  1\n",
      "Prob\n",
      "[  2.55333573e-01   2.53931075e-01   4.91455384e-02   4.90979664e-02\n",
      "   4.91366573e-02   4.88683693e-02   4.93287630e-02   4.91089933e-02\n",
      "   4.87434193e-02   4.88245562e-02   4.90750298e-02   4.94060889e-02\n",
      "   4.89241009e-11   4.85153237e-11   4.45415684e-11   4.76276137e-11\n",
      "   4.27490994e-11]\n",
      "[  3.52182750e-09   3.48363316e-09   1.25044277e-02   1.25958892e-02\n",
      "   1.25582498e-02   1.24609377e-02   1.26955332e-02   1.25244837e-02\n",
      "   1.24948546e-02   1.25658521e-02   1.28065264e-02   1.25212139e-02\n",
      "   1.81918472e-01   1.83945790e-01   1.81688726e-01   1.82060972e-01\n",
      "   1.44658104e-01]\n",
      "[ 0.19724341  0.19276561  0.04793767  0.04779501  0.04697831  0.04722007\n",
      "  0.04747212  0.04734098  0.04670906  0.04767372  0.04811729  0.04782397\n",
      "  0.02694512  0.02709053  0.0268984   0.02703024  0.02695851]\n",
      "[ 0.16418417  0.16730429  0.04818559  0.06011325  0.05997161  0.05650619\n",
      "  0.0529634   0.04672733  0.05469271  0.05399899  0.05436369  0.04908957\n",
      "  0.02746221  0.02589949  0.02757264  0.0245915   0.02637341]\n",
      "[ 0.10544696  0.10725118  0.05329098  0.06994162  0.07206185  0.06513755\n",
      "  0.05977042  0.05085564  0.06298603  0.06217955  0.06375627  0.05693121\n",
      "  0.0361746   0.03397489  0.03593077  0.02994457  0.03436595]\n",
      "[ 0.06969984  0.07064895  0.06327195  0.0717413   0.07860211  0.07059432\n",
      "  0.06322724  0.05778141  0.06946032  0.06653152  0.07002443  0.06199227\n",
      "  0.03879139  0.03554304  0.03882211  0.03284783  0.04041993]\n",
      "[ 0.0418604   0.04149648  0.06142092  0.06747539  0.07674822  0.0677739\n",
      "  0.05551364  0.06036332  0.07351919  0.06816674  0.06908067  0.0596951\n",
      "  0.05022861  0.04730194  0.05706997  0.04820978  0.0540758 ]\n",
      "[ 0.1459077   0.14507331  0.05224671  0.05637529  0.05713694  0.05330665\n",
      "  0.05226686  0.04957205  0.05616628  0.05521905  0.05808973  0.0523289\n",
      "  0.03339164  0.0320664   0.03598326  0.03054003  0.03432925]\n",
      "[ 0.182439    0.18700881  0.0471706   0.05816313  0.05887916  0.05316173\n",
      "  0.05008221  0.04418012  0.05219669  0.05190377  0.05390435  0.04668494\n",
      "  0.02353274  0.02241343  0.02455732  0.02052276  0.02319929]\n",
      "[ 0.13349791  0.13820004  0.05044891  0.06922681  0.07124311  0.06229737\n",
      "  0.0563464   0.0461649   0.06021808  0.06009788  0.0628234   0.05262602\n",
      "  0.02911477  0.0271707   0.02937178  0.02333972  0.02781229]\n",
      "Gradient\n",
      "[[ 0.25        0.25        0.05        0.05        0.05        0.05        0.05\n",
      "   0.05        0.05        0.05        0.05        0.05        0.          0.\n",
      "   0.          0.          0.        ]\n",
      " [ 0.          0.          0.02857143  0.02857143  0.02857143  0.02857143\n",
      "   0.02857143  0.02857143  0.02857143  0.02857143  0.02857143  0.02857143\n",
      "   0.14285715  0.14285715  0.14285715  0.14285715  0.14285715]\n",
      " [ 0.25        0.25        0.05        0.05        0.05        0.05        0.05\n",
      "   0.05        0.05        0.05        0.05        0.05        0.          0.\n",
      "   0.          0.          0.        ]\n",
      " [ 0.          0.          0.          0.          0.          0.          0.\n",
      "   0.          0.          0.          0.          0.          0.21428572\n",
      "   0.21428572  0.21428572  0.21428572  0.14285715]\n",
      " [ 0.          0.          0.          0.          0.          0.          0.\n",
      "   0.          0.          0.          0.          0.          0.21428572\n",
      "   0.21428572  0.21428572  0.21428572  0.14285715]\n",
      " [ 0.          0.          0.02857143  0.02857143  0.02857143  0.02857143\n",
      "   0.02857143  0.02857143  0.02857143  0.02857143  0.02857143  0.02857143\n",
      "   0.14285715  0.14285715  0.14285715  0.14285715  0.14285715]\n",
      " [ 0.25        0.25        0.05        0.05        0.05        0.05        0.05\n",
      "   0.05        0.05        0.05        0.05        0.05        0.          0.\n",
      "   0.          0.          0.        ]\n",
      " [ 0.          0.          0.02857143  0.02857143  0.02857143  0.02857143\n",
      "   0.02857143  0.02857143  0.02857143  0.02857143  0.02857143  0.02857143\n",
      "   0.14285715  0.14285715  0.14285715  0.14285715  0.14285715]\n",
      " [ 0.          0.          0.          0.          0.          0.          0.\n",
      "   0.          0.          0.          0.          0.          0.21428572\n",
      "   0.21428572  0.21428572  0.21428572  0.14285715]\n",
      " [ 0.25        0.25        0.05        0.05        0.05        0.05        0.05\n",
      "   0.05        0.05        0.05        0.05        0.05        0.          0.\n",
      "   0.          0.          0.        ]]\n",
      "Saving Weight\n",
      "Epoch: 1\tLoss: 2.1602605626\tExample Output: 1\tExample Reward:  1\n",
      "Epoch: 2\tLoss: 2.3012787658\tExample Output: 9/186708+X\tExample Reward:  1\n",
      "Epoch: 3\tLoss: 2.08890873104\tExample Output: 7-09YY9988\tExample Reward:  1\n",
      "Epoch: 4\tLoss: 2.06166078806\tExample Output: Y/-8+8-+9X\tExample Reward:  1\n",
      "Epoch: 5\tLoss: 2.03072655231\tExample Output: 2\tExample Reward:  1\n",
      "Epoch: 6\tLoss: 2.1280493921\tExample Output: 4-6719X008\tExample Reward:  1\n",
      "Epoch: 7\tLoss: 2.24324825436\tExample Output: Y+Y/-9098/\tExample Reward:  1\n",
      "Epoch: 8\tLoss: 2.03110017926\tExample Output: X5Y7-727X3\tExample Reward:  -0.3\n",
      "Epoch: 9\tLoss: 1.9641315338\tExample Output: Y--18Y4X\tExample Reward:  1\n",
      "Epoch: 10\tLoss: 1.90884589612\tExample Output: X*\tExample Reward:  1\n",
      "Saving Weight\n",
      "Epoch: 11\tLoss: 1.96437559932\tExample Output: Y-3Y18Y/*4\tExample Reward:  1\n",
      "Epoch: 12\tLoss: 1.88470008552\tExample Output: Y+00-/1YY*\tExample Reward:  1\n",
      "Epoch: 13\tLoss: 1.98483764112\tExample Output: 518*+1**-*\tExample Reward:  1\n",
      "Epoch: 14\tLoss: 1.88026335806\tExample Output: Y+\tExample Reward:  1\n",
      "Epoch: 15\tLoss: 1.98122207582\tExample Output: 893+789-*9\tExample Reward:  1\n",
      "Epoch: 16\tLoss: 2.00168254256\tExample Output: X/6X\tExample Reward:  1\n",
      "Epoch: 17\tLoss: 1.86500247747\tExample Output: Y-99\tExample Reward:  1\n",
      "Epoch: 18\tLoss: 1.83663319796\tExample Output: Y/Y\tExample Reward:  1\n",
      "Epoch: 19\tLoss: 1.84922505677\tExample Output: 2/82/*0820\tExample Reward:  1\n",
      "Epoch: 20\tLoss: 1.85817122996\tExample Output: Y\tExample Reward:  1\n",
      "Saving Weight\n",
      "Epoch: 21\tLoss: 2.00250876337\tExample Output: Y774Y*7/Y-\tExample Reward:  -0.3\n",
      "Epoch: 22\tLoss: 1.8409991616\tExample Output: Y+/\tExample Reward:  1\n",
      "Epoch: 23\tLoss: 1.94795212328\tExample Output: 7/3\tExample Reward:  1\n",
      "Epoch: 24\tLoss: 1.80544230342\tExample Output: X**9-Y+911\tExample Reward:  1\n",
      "Epoch: 25\tLoss: 1.82597782373\tExample Output: 6--*/1-56\tExample Reward:  1\n",
      "Epoch: 26\tLoss: 1.87438557714\tExample Output: X*X2+-XX-X\tExample Reward:  1\n",
      "Epoch: 27\tLoss: 2.01868388563\tExample Output: 9-++/Y49-\tExample Reward:  1\n",
      "Epoch: 28\tLoss: 2.02806454122\tExample Output: 9-XX1//5X*\tExample Reward:  1\n",
      "Epoch: 29\tLoss: 1.74160528749\tExample Output: Y+Y0*6X4\tExample Reward:  1\n",
      "Epoch: 30\tLoss: 1.77540748656\tExample Output: 3/X2-118-X\tExample Reward:  1\n",
      "Saving Weight\n",
      "Epoch: 31\tLoss: 1.99780114412\tExample Output: Y-8380\tExample Reward:  1\n",
      "Epoch: 32\tLoss: 1.8930030179\tExample Output: X-0\tExample Reward:  1\n",
      "Epoch: 33\tLoss: 1.85686628699\tExample Output: X--YX-\tExample Reward:  1\n",
      "Epoch: 34\tLoss: 1.91278693885\tExample Output: 4*8X3/Y6-\tExample Reward:  1\n",
      "Epoch: 35\tLoss: 1.88450349092\tExample Output: Y*Y*/+*\tExample Reward:  1\n",
      "Epoch: 36\tLoss: 1.869977718\tExample Output: X0++55Y--7\tExample Reward:  -0.3\n",
      "Epoch: 37\tLoss: 1.86898817748\tExample Output: Y*4Y/5YX1*\tExample Reward:  1\n",
      "Epoch: 38\tLoss: 1.87733264029\tExample Output: 6+Y3+\tExample Reward:  1\n",
      "Epoch: 39\tLoss: 1.92793819278\tExample Output: X1Y7Y+8\tExample Reward:  -0.3\n",
      "Epoch: 40\tLoss: 1.87812779158\tExample Output: X*Y-\tExample Reward:  1\n",
      "Saving Weight\n",
      "Epoch: 41\tLoss: 1.84398575962\tExample Output: Y/57Y/+\tExample Reward:  1\n",
      "Epoch: 42\tLoss: 1.86385969609\tExample Output: 71Y9//X*8/\tExample Reward:  1\n",
      "Epoch: 43\tLoss: 1.77818905115\tExample Output: Y8YX1-**1X\tExample Reward:  -0.3\n",
      "Epoch: 44\tLoss: 1.9086564672\tExample Output: X*-X*4X0*/\tExample Reward:  1\n",
      "Epoch: 45\tLoss: 1.9011854738\tExample Output: X+X/*\tExample Reward:  1\n",
      "Epoch: 46\tLoss: 1.96834825903\tExample Output: Y1089*--42\tExample Reward:  -0.3\n",
      "Epoch: 47\tLoss: 1.94222219259\tExample Output: 9-\tExample Reward:  1\n",
      "Epoch: 48\tLoss: 1.76312136322\tExample Output: 4/Y06+*/X*\tExample Reward:  1\n",
      "Epoch: 49\tLoss: 1.86763366729\tExample Output: X/Y3990+*X\tExample Reward:  1\n",
      "Epoch: 50\tLoss: 1.84196463764\tExample Output: X/X0\tExample Reward:  1\n",
      "Prob\n",
      "[  2.48628289e-01   2.48593554e-01   5.04903942e-02   5.06605133e-02\n",
      "   5.01554385e-02   5.02346158e-02   5.04171886e-02   4.99871112e-02\n",
      "   5.00484817e-02   4.98254113e-02   5.07374369e-02   5.02215847e-02\n",
      "   1.42809349e-11   1.33412630e-11   1.44415868e-11   1.33598766e-11\n",
      "   1.84557872e-11]\n",
      "[  1.78631012e-07   1.78261729e-07   1.46561619e-02   1.43548716e-02\n",
      "   1.45324301e-02   1.43409530e-02   1.38667962e-02   1.55636845e-02\n",
      "   1.49446102e-02   1.45581616e-02   1.45580890e-02   1.53159229e-02\n",
      "   1.76560014e-01   1.81458086e-01   1.78123310e-01   1.74144685e-01\n",
      "   1.43021867e-01]\n",
      "[ 0.20369147  0.19375718  0.03209182  0.03242297  0.0319843   0.03397878\n",
      "  0.03296139  0.03513296  0.03361568  0.03450702  0.0312021   0.03243414\n",
      "  0.05713033  0.0546504   0.05205478  0.06165679  0.04672794]\n",
      "[ 0.10947537  0.10713681  0.03737125  0.04017914  0.03871847  0.03892365\n",
      "  0.03804845  0.03616318  0.03636045  0.0375647   0.04104893  0.03802403\n",
      "  0.08353375  0.08114899  0.08091046  0.08431071  0.07108165]\n",
      "[ 0.09110897  0.0862718   0.03739961  0.03943453  0.03814555  0.03839\n",
      "  0.03743629  0.03653272  0.03570737  0.03734041  0.03876901  0.03741106\n",
      "  0.08998648  0.08903665  0.09269717  0.09389143  0.08044101]\n",
      "Gradient\n",
      "[[ 0.25        0.25        0.05        0.05        0.05        0.05        0.05\n",
      "   0.05        0.05        0.05        0.05        0.05        0.          0.\n",
      "   0.          0.          0.        ]\n",
      " [ 0.          0.          0.          0.          0.          0.          0.\n",
      "   0.          0.          0.          0.          0.          0.21428572\n",
      "   0.21428572  0.21428572  0.21428572  0.14285715]\n",
      " [ 0.25        0.25        0.05        0.05        0.05        0.05        0.05\n",
      "   0.05        0.05        0.05        0.05        0.05        0.          0.\n",
      "   0.          0.          0.        ]\n",
      " [ 0.          0.          0.          0.          0.          0.          0.\n",
      "   0.          0.          0.          0.          0.          0.21428572\n",
      "   0.21428572  0.21428572  0.21428572  0.14285715]\n",
      " [ 0.          0.          0.02857143  0.02857143  0.02857143  0.02857143\n",
      "   0.02857143  0.02857143  0.02857143  0.02857143  0.02857143  0.02857143\n",
      "   0.14285715  0.14285715  0.14285715  0.14285715  0.14285715]]\n",
      "Saving Weight\n"
     ]
    },
    {
     "name": "stdout",
     "output_type": "stream",
     "text": [
      "Epoch: 51\tLoss: 1.93701172054\tExample Output: X+23*Y-9-*\tExample Reward:  1\n",
      "Epoch: 52\tLoss: 1.85429149002\tExample Output: 6*Y/+**3X-\tExample Reward:  1\n",
      "Epoch: 53\tLoss: 1.87836688608\tExample Output: Y1X+/40+*1\tExample Reward:  -0.3\n",
      "Epoch: 54\tLoss: 1.96584148526\tExample Output: Y/X1++\tExample Reward:  1\n",
      "Epoch: 55\tLoss: 1.69349134147\tExample Output: X\tExample Reward:  1\n",
      "Epoch: 56\tLoss: 1.88596393049\tExample Output: Y*XY-/*/X5\tExample Reward:  1\n",
      "Epoch: 57\tLoss: 1.72434827805\tExample Output: Y\tExample Reward:  1\n",
      "Epoch: 58\tLoss: 1.87543080777\tExample Output: X**6Y55*/+\tExample Reward:  1\n",
      "Epoch: 59\tLoss: 1.81462081045\tExample Output: 5\tExample Reward:  1\n",
      "Epoch: 60\tLoss: 1.82124833703\tExample Output: Y//X1+88X\tExample Reward:  1\n",
      "Saving Weight\n"
     ]
    },
    {
     "ename": "KeyboardInterrupt",
     "evalue": "",
     "output_type": "error",
     "traceback": [
      "\u001b[0;31m---------------------------------------------------------------------------\u001b[0m",
      "\u001b[0;31mKeyboardInterrupt\u001b[0m                         Traceback (most recent call last)",
      "\u001b[0;32m<ipython-input-17-c8e0472c77ba>\u001b[0m in \u001b[0;36m<module>\u001b[0;34m()\u001b[0m\n\u001b[0;32m----> 1\u001b[0;31m \u001b[0mpgModel\u001b[0m\u001b[0;34m.\u001b[0m\u001b[0mtrain\u001b[0m\u001b[0;34m(\u001b[0m\u001b[0minput\u001b[0m\u001b[0;34m=\u001b[0m\u001b[0mnp\u001b[0m\u001b[0;34m.\u001b[0m\u001b[0mones\u001b[0m\u001b[0;34m(\u001b[0m\u001b[0;34m(\u001b[0m\u001b[0;36m1\u001b[0m\u001b[0;34m,\u001b[0m\u001b[0;36m1\u001b[0m\u001b[0;34m,\u001b[0m\u001b[0;36m1\u001b[0m\u001b[0;34m)\u001b[0m\u001b[0;34m)\u001b[0m\u001b[0;34m)\u001b[0m\u001b[0;34m\u001b[0m\u001b[0m\n\u001b[0m",
      "\u001b[0;32m~/function-generator/PolicyGradientModel.py\u001b[0m in \u001b[0;36mtrain\u001b[0;34m(self, input, numIterationPerEpoch, numEpoch, numEpochToSaveWeight)\u001b[0m\n\u001b[1;32m     92\u001b[0m                 \u001b[0;31m#print(\"X Shape: \",X.shape)\u001b[0m\u001b[0;34m\u001b[0m\u001b[0;34m\u001b[0m\u001b[0m\n\u001b[1;32m     93\u001b[0m                 \u001b[0;31m#print(\"Y Shape: \",Y.shape)\u001b[0m\u001b[0;34m\u001b[0m\u001b[0;34m\u001b[0m\u001b[0m\n\u001b[0;32m---> 94\u001b[0;31m                 \u001b[0mloss\u001b[0m \u001b[0;34m=\u001b[0m \u001b[0mself\u001b[0m\u001b[0;34m.\u001b[0m\u001b[0mmodel\u001b[0m\u001b[0;34m.\u001b[0m\u001b[0mtrain_on_batch\u001b[0m\u001b[0;34m(\u001b[0m\u001b[0mX\u001b[0m\u001b[0;34m,\u001b[0m \u001b[0mY\u001b[0m\u001b[0;34m)\u001b[0m\u001b[0;34m\u001b[0m\u001b[0m\n\u001b[0m\u001b[1;32m     95\u001b[0m                 \u001b[0;31m#loss = 0\u001b[0m\u001b[0;34m\u001b[0m\u001b[0;34m\u001b[0m\u001b[0m\n\u001b[1;32m     96\u001b[0m                 \u001b[0maverageLoss\u001b[0m \u001b[0;34m+=\u001b[0m \u001b[0mloss\u001b[0m\u001b[0;34m\u001b[0m\u001b[0m\n",
      "\u001b[0;32m/usr/local/lib/python3.5/dist-packages/keras/engine/training.py\u001b[0m in \u001b[0;36mtrain_on_batch\u001b[0;34m(self, x, y, sample_weight, class_weight)\u001b[0m\n\u001b[1;32m   1830\u001b[0m             \u001b[0mins\u001b[0m \u001b[0;34m=\u001b[0m \u001b[0mx\u001b[0m \u001b[0;34m+\u001b[0m \u001b[0my\u001b[0m \u001b[0;34m+\u001b[0m \u001b[0msample_weights\u001b[0m\u001b[0;34m\u001b[0m\u001b[0m\n\u001b[1;32m   1831\u001b[0m         \u001b[0mself\u001b[0m\u001b[0;34m.\u001b[0m\u001b[0m_make_train_function\u001b[0m\u001b[0;34m(\u001b[0m\u001b[0;34m)\u001b[0m\u001b[0;34m\u001b[0m\u001b[0m\n\u001b[0;32m-> 1832\u001b[0;31m         \u001b[0moutputs\u001b[0m \u001b[0;34m=\u001b[0m \u001b[0mself\u001b[0m\u001b[0;34m.\u001b[0m\u001b[0mtrain_function\u001b[0m\u001b[0;34m(\u001b[0m\u001b[0mins\u001b[0m\u001b[0;34m)\u001b[0m\u001b[0;34m\u001b[0m\u001b[0m\n\u001b[0m\u001b[1;32m   1833\u001b[0m         \u001b[0;32mif\u001b[0m \u001b[0mlen\u001b[0m\u001b[0;34m(\u001b[0m\u001b[0moutputs\u001b[0m\u001b[0;34m)\u001b[0m \u001b[0;34m==\u001b[0m \u001b[0;36m1\u001b[0m\u001b[0;34m:\u001b[0m\u001b[0;34m\u001b[0m\u001b[0m\n\u001b[1;32m   1834\u001b[0m             \u001b[0;32mreturn\u001b[0m \u001b[0moutputs\u001b[0m\u001b[0;34m[\u001b[0m\u001b[0;36m0\u001b[0m\u001b[0;34m]\u001b[0m\u001b[0;34m\u001b[0m\u001b[0m\n",
      "\u001b[0;32m/usr/local/lib/python3.5/dist-packages/keras/backend/tensorflow_backend.py\u001b[0m in \u001b[0;36m__call__\u001b[0;34m(self, inputs)\u001b[0m\n\u001b[1;32m   2350\u001b[0m         \u001b[0msession\u001b[0m \u001b[0;34m=\u001b[0m \u001b[0mget_session\u001b[0m\u001b[0;34m(\u001b[0m\u001b[0;34m)\u001b[0m\u001b[0;34m\u001b[0m\u001b[0m\n\u001b[1;32m   2351\u001b[0m         updated = session.run(fetches=fetches, feed_dict=feed_dict,\n\u001b[0;32m-> 2352\u001b[0;31m                               **self.session_kwargs)\n\u001b[0m\u001b[1;32m   2353\u001b[0m         \u001b[0;32mreturn\u001b[0m \u001b[0mupdated\u001b[0m\u001b[0;34m[\u001b[0m\u001b[0;34m:\u001b[0m\u001b[0mlen\u001b[0m\u001b[0;34m(\u001b[0m\u001b[0mself\u001b[0m\u001b[0;34m.\u001b[0m\u001b[0moutputs\u001b[0m\u001b[0;34m)\u001b[0m\u001b[0;34m]\u001b[0m\u001b[0;34m\u001b[0m\u001b[0m\n\u001b[1;32m   2354\u001b[0m \u001b[0;34m\u001b[0m\u001b[0m\n",
      "\u001b[0;32m/usr/local/lib/python3.5/dist-packages/tensorflow/python/client/session.py\u001b[0m in \u001b[0;36mrun\u001b[0;34m(self, fetches, feed_dict, options, run_metadata)\u001b[0m\n\u001b[1;32m    887\u001b[0m     \u001b[0;32mtry\u001b[0m\u001b[0;34m:\u001b[0m\u001b[0;34m\u001b[0m\u001b[0m\n\u001b[1;32m    888\u001b[0m       result = self._run(None, fetches, feed_dict, options_ptr,\n\u001b[0;32m--> 889\u001b[0;31m                          run_metadata_ptr)\n\u001b[0m\u001b[1;32m    890\u001b[0m       \u001b[0;32mif\u001b[0m \u001b[0mrun_metadata\u001b[0m\u001b[0;34m:\u001b[0m\u001b[0;34m\u001b[0m\u001b[0m\n\u001b[1;32m    891\u001b[0m         \u001b[0mproto_data\u001b[0m \u001b[0;34m=\u001b[0m \u001b[0mtf_session\u001b[0m\u001b[0;34m.\u001b[0m\u001b[0mTF_GetBuffer\u001b[0m\u001b[0;34m(\u001b[0m\u001b[0mrun_metadata_ptr\u001b[0m\u001b[0;34m)\u001b[0m\u001b[0;34m\u001b[0m\u001b[0m\n",
      "\u001b[0;32m/usr/local/lib/python3.5/dist-packages/tensorflow/python/client/session.py\u001b[0m in \u001b[0;36m_run\u001b[0;34m(self, handle, fetches, feed_dict, options, run_metadata)\u001b[0m\n\u001b[1;32m   1118\u001b[0m     \u001b[0;32mif\u001b[0m \u001b[0mfinal_fetches\u001b[0m \u001b[0;32mor\u001b[0m \u001b[0mfinal_targets\u001b[0m \u001b[0;32mor\u001b[0m \u001b[0;34m(\u001b[0m\u001b[0mhandle\u001b[0m \u001b[0;32mand\u001b[0m \u001b[0mfeed_dict_tensor\u001b[0m\u001b[0;34m)\u001b[0m\u001b[0;34m:\u001b[0m\u001b[0;34m\u001b[0m\u001b[0m\n\u001b[1;32m   1119\u001b[0m       results = self._do_run(handle, final_targets, final_fetches,\n\u001b[0;32m-> 1120\u001b[0;31m                              feed_dict_tensor, options, run_metadata)\n\u001b[0m\u001b[1;32m   1121\u001b[0m     \u001b[0;32melse\u001b[0m\u001b[0;34m:\u001b[0m\u001b[0;34m\u001b[0m\u001b[0m\n\u001b[1;32m   1122\u001b[0m       \u001b[0mresults\u001b[0m \u001b[0;34m=\u001b[0m \u001b[0;34m[\u001b[0m\u001b[0;34m]\u001b[0m\u001b[0;34m\u001b[0m\u001b[0m\n",
      "\u001b[0;32m/usr/local/lib/python3.5/dist-packages/tensorflow/python/client/session.py\u001b[0m in \u001b[0;36m_do_run\u001b[0;34m(self, handle, target_list, fetch_list, feed_dict, options, run_metadata)\u001b[0m\n\u001b[1;32m   1315\u001b[0m     \u001b[0;32mif\u001b[0m \u001b[0mhandle\u001b[0m \u001b[0;32mis\u001b[0m \u001b[0;32mNone\u001b[0m\u001b[0;34m:\u001b[0m\u001b[0;34m\u001b[0m\u001b[0m\n\u001b[1;32m   1316\u001b[0m       return self._do_call(_run_fn, self._session, feeds, fetches, targets,\n\u001b[0;32m-> 1317\u001b[0;31m                            options, run_metadata)\n\u001b[0m\u001b[1;32m   1318\u001b[0m     \u001b[0;32melse\u001b[0m\u001b[0;34m:\u001b[0m\u001b[0;34m\u001b[0m\u001b[0m\n\u001b[1;32m   1319\u001b[0m       \u001b[0;32mreturn\u001b[0m \u001b[0mself\u001b[0m\u001b[0;34m.\u001b[0m\u001b[0m_do_call\u001b[0m\u001b[0;34m(\u001b[0m\u001b[0m_prun_fn\u001b[0m\u001b[0;34m,\u001b[0m \u001b[0mself\u001b[0m\u001b[0;34m.\u001b[0m\u001b[0m_session\u001b[0m\u001b[0;34m,\u001b[0m \u001b[0mhandle\u001b[0m\u001b[0;34m,\u001b[0m \u001b[0mfeeds\u001b[0m\u001b[0;34m,\u001b[0m \u001b[0mfetches\u001b[0m\u001b[0;34m)\u001b[0m\u001b[0;34m\u001b[0m\u001b[0m\n",
      "\u001b[0;32m/usr/local/lib/python3.5/dist-packages/tensorflow/python/client/session.py\u001b[0m in \u001b[0;36m_do_call\u001b[0;34m(self, fn, *args)\u001b[0m\n\u001b[1;32m   1321\u001b[0m   \u001b[0;32mdef\u001b[0m \u001b[0m_do_call\u001b[0m\u001b[0;34m(\u001b[0m\u001b[0mself\u001b[0m\u001b[0;34m,\u001b[0m \u001b[0mfn\u001b[0m\u001b[0;34m,\u001b[0m \u001b[0;34m*\u001b[0m\u001b[0margs\u001b[0m\u001b[0;34m)\u001b[0m\u001b[0;34m:\u001b[0m\u001b[0;34m\u001b[0m\u001b[0m\n\u001b[1;32m   1322\u001b[0m     \u001b[0;32mtry\u001b[0m\u001b[0;34m:\u001b[0m\u001b[0;34m\u001b[0m\u001b[0m\n\u001b[0;32m-> 1323\u001b[0;31m       \u001b[0;32mreturn\u001b[0m \u001b[0mfn\u001b[0m\u001b[0;34m(\u001b[0m\u001b[0;34m*\u001b[0m\u001b[0margs\u001b[0m\u001b[0;34m)\u001b[0m\u001b[0;34m\u001b[0m\u001b[0m\n\u001b[0m\u001b[1;32m   1324\u001b[0m     \u001b[0;32mexcept\u001b[0m \u001b[0merrors\u001b[0m\u001b[0;34m.\u001b[0m\u001b[0mOpError\u001b[0m \u001b[0;32mas\u001b[0m \u001b[0me\u001b[0m\u001b[0;34m:\u001b[0m\u001b[0;34m\u001b[0m\u001b[0m\n\u001b[1;32m   1325\u001b[0m       \u001b[0mmessage\u001b[0m \u001b[0;34m=\u001b[0m \u001b[0mcompat\u001b[0m\u001b[0;34m.\u001b[0m\u001b[0mas_text\u001b[0m\u001b[0;34m(\u001b[0m\u001b[0me\u001b[0m\u001b[0;34m.\u001b[0m\u001b[0mmessage\u001b[0m\u001b[0;34m)\u001b[0m\u001b[0;34m\u001b[0m\u001b[0m\n",
      "\u001b[0;32m/usr/local/lib/python3.5/dist-packages/tensorflow/python/client/session.py\u001b[0m in \u001b[0;36m_run_fn\u001b[0;34m(session, feed_dict, fetch_list, target_list, options, run_metadata)\u001b[0m\n\u001b[1;32m   1300\u001b[0m           return tf_session.TF_Run(session, options,\n\u001b[1;32m   1301\u001b[0m                                    \u001b[0mfeed_dict\u001b[0m\u001b[0;34m,\u001b[0m \u001b[0mfetch_list\u001b[0m\u001b[0;34m,\u001b[0m \u001b[0mtarget_list\u001b[0m\u001b[0;34m,\u001b[0m\u001b[0;34m\u001b[0m\u001b[0m\n\u001b[0;32m-> 1302\u001b[0;31m                                    status, run_metadata)\n\u001b[0m\u001b[1;32m   1303\u001b[0m \u001b[0;34m\u001b[0m\u001b[0m\n\u001b[1;32m   1304\u001b[0m     \u001b[0;32mdef\u001b[0m \u001b[0m_prun_fn\u001b[0m\u001b[0;34m(\u001b[0m\u001b[0msession\u001b[0m\u001b[0;34m,\u001b[0m \u001b[0mhandle\u001b[0m\u001b[0;34m,\u001b[0m \u001b[0mfeed_dict\u001b[0m\u001b[0;34m,\u001b[0m \u001b[0mfetch_list\u001b[0m\u001b[0;34m)\u001b[0m\u001b[0;34m:\u001b[0m\u001b[0;34m\u001b[0m\u001b[0m\n",
      "\u001b[0;31mKeyboardInterrupt\u001b[0m: "
     ]
    }
   ],
   "source": [
    "pgModel.train(input=np.ones((1,1,1)))"
   ]
  },
  {
   "cell_type": "code",
   "execution_count": null,
   "metadata": {},
   "outputs": [],
   "source": [
    "for i in range(100):\n",
    "    seq, _ = pgModel.predictOutputSequence(input=np.ones((1,1,1)))\n",
    "    temp = np.array(ALLOWED_SYMBOLS)\n",
    "    print(''.join(temp[seq]))"
   ]
  },
  {
   "cell_type": "code",
   "execution_count": null,
   "metadata": {},
   "outputs": [],
   "source": []
  }
 ],
 "metadata": {
  "kernelspec": {
   "display_name": "Python 3",
   "language": "python",
   "name": "python3"
  },
  "language_info": {
   "codemirror_mode": {
    "name": "ipython",
    "version": 3
   },
   "file_extension": ".py",
   "mimetype": "text/x-python",
   "name": "python",
   "nbconvert_exporter": "python",
   "pygments_lexer": "ipython3",
   "version": "3.5.3"
  }
 },
 "nbformat": 4,
 "nbformat_minor": 1
}
