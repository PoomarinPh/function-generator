{
 "cells": [
  {
   "cell_type": "markdown",
   "metadata": {},
   "source": [
    "# FUNCTION GENERATOR using Policy Gradient"
   ]
  },
  {
   "cell_type": "markdown",
   "metadata": {},
   "source": [
    "Useful links:\n",
    "Policy Gradient Explanation: http://karpathy.github.io/2016/05/31/rl/ <br>\n",
    "Example of Policy Gradient: https://github.com/keon/policy-gradient"
   ]
  },
  {
   "cell_type": "code",
   "execution_count": 1,
   "metadata": {},
   "outputs": [
    {
     "name": "stderr",
     "output_type": "stream",
     "text": [
      "Using TensorFlow backend.\n"
     ]
    }
   ],
   "source": [
    "import numpy as np\n",
    "from keras.models import Sequential, Model\n",
    "from keras.layers import TimeDistributed, Dense, Reshape, Flatten, GRU, Input, Embedding\n",
    "from keras.optimizers import Adam\n",
    "from keras.layers.convolutional import Convolution2D\n",
    "from PolicyGradientModel import PolicyGradientModel\n",
    "from RewardCalculator import RewardCalculator"
   ]
  },
  {
   "cell_type": "code",
   "execution_count": 2,
   "metadata": {
    "collapsed": true
   },
   "outputs": [],
   "source": [
    "ALLOWED_PARAMETERS = list('XY')\n",
    "ALLOWED_SYMBOLS = ALLOWED_PARAMETERS + list('0123456789+-*/#')\n",
    "NUM_SYMBOLS = len(ALLOWED_SYMBOLS)\n",
    "MAX_LENGTH = 30 # Max length of the output expression\n",
    "CORRECT_EXPRESSION = \"3*X+2*Y\""
   ]
  },
  {
   "cell_type": "markdown",
   "metadata": {},
   "source": [
    "### DEFINE MODEL"
   ]
  },
  {
   "cell_type": "code",
   "execution_count": 3,
   "metadata": {
    "collapsed": true
   },
   "outputs": [],
   "source": [
    "def getModel():\n",
    "    # Trying to neglect input\n",
    "    input1 = Input(shape=(1,1))\n",
    "    # TODO: Add noise layer to make output vary\n",
    "    x = GRU(32)(input1)\n",
    "    out = Dense(NUM_SYMBOLS, activation='sigmoid')(x)\n",
    "    model = Model(inputs=input1, outputs=out)\n",
    "    model.compile(optimizer=Adam(),\n",
    "                loss='categorical_crossentropy')\n",
    "    return model"
   ]
  },
  {
   "cell_type": "code",
   "execution_count": 5,
   "metadata": {},
   "outputs": [],
   "source": [
    "rewardCalculator = RewardCalculator(correctExpression=CORRECT_EXPRESSION,\n",
    "                                    parameters=ALLOWED_PARAMETERS,\n",
    "                                    functionDifferenceRewardWeight=1.0,\n",
    "                                    compilableRewardWeight=1.0,\n",
    "                                    lengthRewardWeight=-0.02,\n",
    "                                    foundSymbolWeight=0.1,\n",
    "                                    rewardOffset=0.0,\n",
    "                                    usingFile=False)"
   ]
  },
  {
   "cell_type": "code",
   "execution_count": 6,
   "metadata": {
    "collapsed": true
   },
   "outputs": [],
   "source": [
    "model = getModel()\n",
    "pgModel = PolicyGradientModel(model=model,\n",
    "                              allowedSymbol=ALLOWED_SYMBOLS,\n",
    "                              numSymbol=NUM_SYMBOLS,\n",
    "                              maxLength=MAX_LENGTH,\n",
    "                              rewardCalculator=rewardCalculator,\n",
    "                              learningRate=0.0001,\n",
    "                              fileName=\"Model1.hdf5\")"
   ]
  },
  {
   "cell_type": "code",
   "execution_count": null,
   "metadata": {
    "collapsed": true
   },
   "outputs": [],
   "source": [
    "pgModel.loadWeight()"
   ]
  },
  {
   "cell_type": "markdown",
   "metadata": {},
   "source": [
    "## TRAINING"
   ]
  },
  {
   "cell_type": "code",
   "execution_count": null,
   "metadata": {
    "scrolled": true
   },
   "outputs": [],
   "source": [
    "pgModel.train(input=np.ones((1,1,1)))"
   ]
  }
 ],
 "metadata": {
  "kernelspec": {
   "display_name": "Python 3",
   "language": "python",
   "name": "python3"
  },
  "language_info": {
   "codemirror_mode": {
    "name": "ipython",
    "version": 3
   },
   "file_extension": ".py",
   "mimetype": "text/x-python",
   "name": "python",
   "nbconvert_exporter": "python",
   "pygments_lexer": "ipython3",
   "version": "3.6.2"
  }
 },
 "nbformat": 4,
 "nbformat_minor": 1
}
