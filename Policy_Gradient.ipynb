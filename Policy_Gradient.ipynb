{
 "cells": [
  {
   "cell_type": "markdown",
   "metadata": {},
   "source": [
    "# FUNCTION GENERATOR using Policy Gradient"
   ]
  },
  {
   "cell_type": "markdown",
   "metadata": {},
   "source": [
    "Useful links:\n",
    "Policy Gradient Explanation: http://karpathy.github.io/2016/05/31/rl/ <br>\n",
    "Example of Policy Gradient: https://github.com/keon/policy-gradient"
   ]
  },
  {
   "cell_type": "code",
   "execution_count": 7,
   "metadata": {},
   "outputs": [],
   "source": [
    "import numpy as np\n",
    "from keras.models import Sequential, Model\n",
    "from keras.layers import TimeDistributed, Dense, Reshape, Flatten, GRU, Input, Embedding\n",
    "from keras.optimizers import Adam\n",
    "from keras.layers.convolutional import Convolution2D\n",
    "from PolicyGradientModel import PolicyGradientModel\n",
    "from RewardCalculator import RewardCalculator"
   ]
  },
  {
   "cell_type": "code",
   "execution_count": 8,
   "metadata": {
    "collapsed": true
   },
   "outputs": [],
   "source": [
    "ALLOWED_PARAMETERS = list('XY')\n",
    "ALLOWED_SYMBOLS = ALLOWED_PARAMETERS + list('0123456789+-*/#')\n",
    "NUM_SYMBOLS = len(ALLOWED_SYMBOLS)\n",
    "MAX_LENGTH = 30 # Max length of the output expression\n",
    "CORRECT_EXPRESSION = \"3*X+2*Y\""
   ]
  },
  {
   "cell_type": "markdown",
   "metadata": {},
   "source": [
    "### DEFINE MODEL"
   ]
  },
  {
   "cell_type": "code",
   "execution_count": 9,
   "metadata": {
    "collapsed": true
   },
   "outputs": [],
   "source": [
    "def getModel():\n",
    "    # Trying to neglect input\n",
    "    input1 = Input(shape=(1,1))\n",
    "    # TODO: Add noise layer to make output vary\n",
    "    x = GRU(32)(input1)\n",
    "    out = Dense(NUM_SYMBOLS, activation='sigmoid')(x)\n",
    "    model = Model(inputs=input1, outputs=out)\n",
    "    model.compile(optimizer=Adam(),\n",
    "                loss='categorical_crossentropy')\n",
    "    return model"
   ]
  },
  {
   "cell_type": "code",
   "execution_count": 10,
   "metadata": {
    "collapsed": true
   },
   "outputs": [],
   "source": [
    "rewardCalculator = RewardCalculator(correctExpression=CORRECT_EXPRESSION,\n",
    "                                    parameters=ALLOWED_PARAMETERS,\n",
    "                                    usingFunctionDifferenceReward=False,\n",
    "                                    usingCompilableReward=True,\n",
    "                                    usingLengthReward=True,\n",
    "                                    usingFile=False)"
   ]
  },
  {
   "cell_type": "code",
   "execution_count": 11,
   "metadata": {
    "collapsed": true
   },
   "outputs": [],
   "source": [
    "model = getModel()\n",
    "pgModel = PolicyGradientModel(model=model,\n",
    "                              allowedSymbol=ALLOWED_SYMBOLS,\n",
    "                              numSymbol=NUM_SYMBOLS,\n",
    "                              maxLength=MAX_LENGTH,\n",
    "                              rewardCalculator=rewardCalculator,\n",
    "                              learningRate=0.0001,\n",
    "                              fileName=\"Model1.hdf5\")"
   ]
  },
  {
   "cell_type": "markdown",
   "metadata": {},
   "source": [
    "## TRAINING"
   ]
  },
  {
   "cell_type": "code",
   "execution_count": null,
   "metadata": {
    "scrolled": true
   },
   "outputs": [
    {
     "name": "stdout",
     "output_type": "stream",
     "text": [
      "Epoch: 0\tLoss: 24.1669408798\tExample Output: //77*7YY/4Y0-9**\n",
      "Saving Weight\n",
      "Epoch: 1\tLoss: 24.1928524017\tExample Output: 09X2Y4765880X3/\n",
      "Epoch: 2\tLoss: 24.2049629211\tExample Output: 0-54\n",
      "Epoch: 3\tLoss: 24.2170661926\tExample Output: 572X7-6306406107895/X6Y728X40/\n",
      "Epoch: 4\tLoss: 24.229199791\tExample Output: 5464Y8132167\n",
      "Epoch: 5\tLoss: 24.2364273071\tExample Output: 80\n",
      "Epoch: 6\tLoss: 24.2461334229\tExample Output: 00139*78/X-01YX075X--2+Y-123Y7\n",
      "Epoch: 7\tLoss: 24.2559427261\tExample Output: /-65X514X440/X3+65\n",
      "Epoch: 8\tLoss: 24.2579299927\tExample Output: 001*8119\n",
      "Epoch: 9\tLoss: 24.2590667725\tExample Output: 96*095Y70369*+Y50572/015+Y4802\n",
      "Epoch: 10\tLoss: 24.2606086731\tExample Output: 6X/X17\n",
      "Saving Weight\n",
      "Epoch: 11\tLoss: 24.2570659637\tExample Output: X28+203+*8321538Y7Y5-3-7\n",
      "Epoch: 12\tLoss: 24.246553421\tExample Output: /69395/X/7-985705885*-Y6Y829-1\n",
      "Epoch: 13\tLoss: 24.2363046646\tExample Output: 9+388*45*24X18595\n",
      "Epoch: 14\tLoss: 24.2356575012\tExample Output: 48326X+*-X-Y-*\n",
      "Epoch: 15\tLoss: 24.231619072\tExample Output: Y905Y0Y9-435200*-8+245XXY-9393\n",
      "Epoch: 16\tLoss: 24.2238721848\tExample Output: *4+01*45/64Y\n",
      "Epoch: 17\tLoss: 24.2212085724\tExample Output: *XX3\n",
      "Epoch: 18\tLoss: 24.2201053619\tExample Output: //3*6642/+Y\n",
      "Epoch: 19\tLoss: 24.2191936493\tExample Output: 1YXX5\n",
      "Epoch: 20\tLoss: 24.2249639511\tExample Output: +1X*790X405Y/7\n",
      "Saving Weight\n",
      "Epoch: 21\tLoss: 24.2273345947\tExample Output: *6Y34\n",
      "Epoch: 22\tLoss: 24.2311775208\tExample Output: 28Y537-/8199Y0614-4YY-10/2\n",
      "Epoch: 23\tLoss: 24.2342910767\tExample Output: /+46-+7X013YXX63Y0522\n",
      "Epoch: 24\tLoss: 24.2296037674\tExample Output: Y6Y/6/Y4X34*+\n",
      "Epoch: 25\tLoss: 24.2347518921\tExample Output: //289+X7/8-X+\n",
      "Epoch: 26\tLoss: 24.2347970963\tExample Output: 4-X7\n",
      "Epoch: 27\tLoss: 24.230500412\tExample Output: 8Y0X97*/502\n",
      "Epoch: 28\tLoss: 24.2284526825\tExample Output: 1Y0Y9-0708/\n",
      "Epoch: 29\tLoss: 24.2301795959\tExample Output: 46/5X+63-01/6/9X3878-7Y33/2499\n",
      "Epoch: 30\tLoss: 24.2207004547\tExample Output: 9885617*353Y7\n",
      "Saving Weight\n",
      "Epoch: 31\tLoss: 24.2108306885\tExample Output: 929775/42*57/0569002*0++788877\n",
      "Epoch: 32\tLoss: 24.194096756\tExample Output: 50-*7489\n",
      "Epoch: 33\tLoss: 24.1820955276\tExample Output: 52*98+-*\n",
      "Epoch: 34\tLoss: 24.1787511826\tExample Output: 3Y-2-/2/*+2/+06*80Y140972597+\n",
      "Epoch: 35\tLoss: 24.17460289\tExample Output: \n",
      "Epoch: 36\tLoss: 24.1743385315\tExample Output: 2922++7*X8971963/504*77185\n",
      "Epoch: 37\tLoss: 24.1733650208\tExample Output: /X/X14\n",
      "Epoch: 38\tLoss: 24.1721761703\tExample Output: 8421-+8*12\n",
      "Epoch: 39\tLoss: 24.1652927399\tExample Output: X4+250735524\n",
      "Epoch: 40\tLoss: 24.1521743774\tExample Output: 51+*398*XX95335*15*-+-249+/+7/\n",
      "Saving Weight\n",
      "Epoch: 41\tLoss: 24.1409908295\tExample Output: +-732*16X698618667*0799-8\n",
      "Epoch: 42\tLoss: 24.1276371002\tExample Output: 6075X48+5779+26-7Y8X58-*78/-59\n",
      "Epoch: 43\tLoss: 24.1245616913\tExample Output: 7-09Y78+-X5-45323+0391Y9Y\n",
      "Epoch: 44\tLoss: 24.1247053146\tExample Output: 116+/+\n",
      "Epoch: 45\tLoss: 24.1197364807\tExample Output: /9859Y\n",
      "Epoch: 46\tLoss: 24.1155591965\tExample Output: +15047151289/0282*24Y989Y-8830\n",
      "Epoch: 47\tLoss: 24.1179731369\tExample Output: 0751*-79/5/7*9739107-6*/55X95Y\n",
      "Epoch: 48\tLoss: 24.1251895905\tExample Output: 2Y69\n",
      "Epoch: 49\tLoss: 24.1200742722\tExample Output: 99005*X38985Y*8935/-9-9X70+61*\n",
      "Epoch: 50\tLoss: 24.1208957672\tExample Output: 857Y\n",
      "Saving Weight\n",
      "Epoch: 51\tLoss: 24.1211265564\tExample Output: *9905Y94*2\n",
      "Epoch: 52\tLoss: 24.1232728958\tExample Output: 605/0/49666X-52-30297X57659+X3\n",
      "Epoch: 53\tLoss: 24.1263130188\tExample Output: 49X1264XX/+51\n",
      "Epoch: 54\tLoss: 24.1263965607\tExample Output: 6+4+6Y55**/084813*48376/21+0*8\n",
      "Epoch: 55\tLoss: 24.1120967865\tExample Output: *53Y46491-6*2X4+442X9303X+X54+\n",
      "Epoch: 56\tLoss: 24.1015222549\tExample Output: 683Y-+9/9+8+2X0Y3+-1Y8011874*Y\n",
      "Epoch: 57\tLoss: 24.089827919\tExample Output: 1Y50-41//2161*\n",
      "Epoch: 58\tLoss: 24.0763425827\tExample Output: 8/6984X1/\n",
      "Epoch: 59\tLoss: 24.0666652679\tExample Output: 88\n",
      "Epoch: 60\tLoss: 24.0734546661\tExample Output: 1Y9+/*6\n",
      "Saving Weight\n",
      "Epoch: 61\tLoss: 24.0779253006\tExample Output: 848-8+-3X9Y-30X8378484++404542\n",
      "Epoch: 62\tLoss: 24.0825037003\tExample Output: 2268X++32//7--52408290**1-3*-Y\n",
      "Epoch: 63\tLoss: 24.0741588593\tExample Output: 7\n",
      "Epoch: 64\tLoss: 24.0634931564\tExample Output: 03818*78+8-89*114X726/7215*9\n",
      "Epoch: 65\tLoss: 24.0512685776\tExample Output: 957286XY108029140624*+X4X*\n",
      "Epoch: 66\tLoss: 24.0478242874\tExample Output: 33/+X2Y7-85+9\n",
      "Epoch: 67\tLoss: 24.0379980087\tExample Output: 978065441*+/89\n",
      "Epoch: 68\tLoss: 24.0204090118\tExample Output: 329+687/+8/-X13X112*4-5Y905+79\n",
      "Epoch: 69\tLoss: 24.0169652939\tExample Output: /X9+7-6*53052/\n",
      "Epoch: 70\tLoss: 24.0146871567\tExample Output: 5Y/5X+4274-/X0*/85Y7/15760**38\n",
      "Saving Weight\n",
      "Epoch: 71\tLoss: 24.0082511902\tExample Output: *104553+X2*Y2\n",
      "Epoch: 72\tLoss: 24.019512558\tExample Output: 1-+8Y+07986Y0X+1-07Y747Y09*698\n",
      "Epoch: 73\tLoss: 24.0170301437\tExample Output: Y657Y001X9975\n",
      "Epoch: 74\tLoss: 24.010908699\tExample Output: 4X75Y47-49*+7054Y\n",
      "Epoch: 75\tLoss: 24.0106012344\tExample Output: 65128*97Y5317*21641-764-7800X/\n",
      "Epoch: 76\tLoss: 24.0174818039\tExample Output: \n",
      "Epoch: 77\tLoss: 24.0205999374\tExample Output: 0Y77175799624\n",
      "Epoch: 78\tLoss: 24.0248538971\tExample Output: 405638+*/+6Y189\n",
      "Epoch: 79\tLoss: 24.0285682678\tExample Output: 7066*1X\n",
      "Epoch: 80\tLoss: 24.0323404312\tExample Output: 44531008*8Y644\n",
      "Saving Weight\n",
      "Epoch: 81\tLoss: 24.0252845764\tExample Output: 35/*+0X1917YXX77+*-109Y7338+3/\n",
      "Epoch: 82\tLoss: 24.0253240585\tExample Output: 8\n",
      "Epoch: 83\tLoss: 24.0247974396\tExample Output: 4+03\n",
      "Epoch: 84\tLoss: 24.0348501205\tExample Output: 812Y1X52489794+37+43/400X/*043\n",
      "Epoch: 85\tLoss: 24.0399663925\tExample Output: 221/11315\n",
      "Epoch: 86\tLoss: 24.0409160614\tExample Output: 2-X+\n",
      "Epoch: 87\tLoss: 24.0394182205\tExample Output: 2-11*8/\n",
      "Epoch: 88\tLoss: 24.041198349\tExample Output: +/-19\n",
      "Epoch: 89\tLoss: 24.0368192673\tExample Output: 81\n",
      "Epoch: 90\tLoss: 24.0346954346\tExample Output: -6838Y+864++745\n",
      "Saving Weight\n",
      "Epoch: 91\tLoss: 24.0344249725\tExample Output: 9+-X4+890255+-4360\n",
      "Epoch: 92\tLoss: 24.0321994781\tExample Output: 78/5+334Y6X-Y*-9656*2*/712X82X\n",
      "Epoch: 93\tLoss: 24.0308919907\tExample Output: Y-9+9*552Y0\n",
      "Epoch: 94\tLoss: 24.0186546326\tExample Output: 5X25987Y957*Y540X74873/*070883\n",
      "Epoch: 95\tLoss: 24.0006694794\tExample Output: *825-+Y10Y01XX88/+5578X+04X4**\n",
      "Epoch: 96\tLoss: 23.9915159225\tExample Output: +929+55*X791553X\n",
      "Epoch: 97\tLoss: 23.986816597\tExample Output: -0-\n",
      "Epoch: 98\tLoss: 23.9853652954\tExample Output: X---916-*Y93486011YY45+\n",
      "Epoch: 99\tLoss: 23.9834312439\tExample Output: -449539\n",
      "Epoch: 100\tLoss: 23.9774267197\tExample Output: 443/4\n",
      "Saving Weight\n",
      "Epoch: 101\tLoss: 23.9756349564\tExample Output: 6\n",
      "Epoch: 102\tLoss: 23.97018013\tExample Output: X3Y11/174-*+*955Y519X29Y156420\n",
      "Epoch: 103\tLoss: 23.9742927551\tExample Output: 1X3+7\n",
      "Epoch: 104\tLoss: 23.9740253448\tExample Output: Y550142754Y-76YX51075/89*-7314\n",
      "Epoch: 105\tLoss: 23.9752565384\tExample Output: 0*100\n",
      "Epoch: 106\tLoss: 23.9853879929\tExample Output: 74\n",
      "Epoch: 107\tLoss: 23.9970266342\tExample Output: +3X7483*78711-50*+4Y-*5\n",
      "Epoch: 108\tLoss: 24.0138828278\tExample Output: 37639\n",
      "Epoch: 109\tLoss: 24.0242891312\tExample Output: Y955+61+/1YX167\n",
      "Epoch: 110\tLoss: 24.038170433\tExample Output: 24-17383121+6190X/32+*25X9/381\n",
      "Saving Weight\n",
      "Epoch: 111\tLoss: 24.0594438553\tExample Output: 1/2551+546582968X76+77\n",
      "Epoch: 112\tLoss: 24.0878637314\tExample Output: 0\n",
      "Epoch: 113\tLoss: 24.0998886108\tExample Output: 17237706970Y7/0*359+5X\n",
      "Epoch: 114\tLoss: 24.0923664093\tExample Output: 863X5081Y5Y466039137570242-5\n",
      "Epoch: 115\tLoss: 24.0862138748\tExample Output: X\n",
      "Epoch: 116\tLoss: 24.082882309\tExample Output: +Y83\n",
      "Epoch: 117\tLoss: 24.0902227402\tExample Output: 57911750*7Y114-**969++/*11X580\n",
      "Epoch: 118\tLoss: 24.1057548523\tExample Output: 1077909Y7X6\n",
      "Epoch: 119\tLoss: 24.1141757965\tExample Output: 4*0\n",
      "Epoch: 120\tLoss: 24.1108539581\tExample Output: \n",
      "Saving Weight\n",
      "Epoch: 121\tLoss: 24.1097833633\tExample Output: 6/14\n",
      "Epoch: 122\tLoss: 24.1155956268\tExample Output: 556+-49-4177-X\n",
      "Epoch: 123\tLoss: 24.1267503738\tExample Output: 6-*70998775780*941/491Y-7X3855\n",
      "Epoch: 124\tLoss: 24.14164505\tExample Output: 7/9\n",
      "Epoch: 125\tLoss: 24.1528778076\tExample Output: 72994-98X*5X-716079134+7196-48\n",
      "Epoch: 126\tLoss: 24.1695472717\tExample Output: 6213X3*223--4/9725683033/0Y077\n",
      "Epoch: 127\tLoss: 24.1726085663\tExample Output: 1455+9Y2492*8/9/883X-8\n",
      "Epoch: 128\tLoss: 24.1735681534\tExample Output: 09//2-\n"
     ]
    },
    {
     "name": "stdout",
     "output_type": "stream",
     "text": [
      "Epoch: 129\tLoss: 24.168060112\tExample Output: 44-982//+1X54646*YYX522*4-1-35\n",
      "Epoch: 130\tLoss: 24.1712482452\tExample Output: 4*++X90*37-+8*++81*8*\n",
      "Saving Weight\n",
      "Epoch: 131\tLoss: 24.1758321762\tExample Output: 0023031Y8X30719+9-\n",
      "Epoch: 132\tLoss: 24.1855085373\tExample Output: 64X10--Y4\n",
      "Epoch: 133\tLoss: 24.1985923767\tExample Output: \n",
      "Epoch: 134\tLoss: 24.2171516418\tExample Output: 1\n",
      "Epoch: 135\tLoss: 24.2341245651\tExample Output: 1X+*478054*8402386+2*X*-89+X7+\n",
      "Epoch: 136\tLoss: 24.2384189606\tExample Output: 5\n",
      "Epoch: 137\tLoss: 24.2253696442\tExample Output: X05-Y28+6X5/282Y+9066XY5389846\n",
      "Epoch: 138\tLoss: 24.2176866531\tExample Output: 482658/13843-5X6+-0/X9-258\n",
      "Epoch: 139\tLoss: 24.2176574707\tExample Output: 1*+58X5/-0752765-47*X5\n",
      "Epoch: 140\tLoss: 24.2155532837\tExample Output: 39X*9\n",
      "Saving Weight\n",
      "Epoch: 141\tLoss: 24.2133615494\tExample Output: 717522413+6589258314YX9-*4188-\n",
      "Epoch: 142\tLoss: 24.2134820938\tExample Output: /-5/03*-\n",
      "Epoch: 143\tLoss: 24.2075265884\tExample Output: 13\n",
      "Epoch: 144\tLoss: 24.1973020554\tExample Output: -5803Y14107-26*+\n",
      "Epoch: 145\tLoss: 24.1949497223\tExample Output: 1-6X/2\n",
      "Epoch: 146\tLoss: 24.1868808746\tExample Output: +1332249601-776-818/-64/-131*5\n",
      "Epoch: 147\tLoss: 24.1784564972\tExample Output: 5\n",
      "Epoch: 148\tLoss: 24.1783246994\tExample Output: Y770X/++Y2X0685/32+97*/*082943\n",
      "Epoch: 149\tLoss: 24.1693620682\tExample Output: 612\n",
      "Epoch: 150\tLoss: 24.1649597168\tExample Output: ++-/2-6X7437720X0Y58+180**5229\n",
      "Saving Weight\n",
      "Epoch: 151\tLoss: 24.1578342438\tExample Output: 7*3Y039Y30X*409X17\n",
      "Epoch: 152\tLoss: 24.1501306534\tExample Output: -*9*X09X6-21012-XY/+18-28+2-3\n",
      "Epoch: 153\tLoss: 24.1438253403\tExample Output: 5X8+05262850-870\n",
      "Epoch: 154\tLoss: 24.1479791641\tExample Output: +2X3176X9907\n",
      "Epoch: 155\tLoss: 24.1577362061\tExample Output: 5Y*004*3156Y1419368-57\n",
      "Epoch: 156\tLoss: 24.161410141\tExample Output: 89Y9889-7628048Y/0Y6Y706-+63+4\n",
      "Epoch: 157\tLoss: 24.1824739456\tExample Output: 80X-+4Y13X1\n",
      "Epoch: 158\tLoss: 24.1957113266\tExample Output: 99734*Y-Y1/+06X0X4+65+25-6431*\n",
      "Epoch: 159\tLoss: 24.2030738831\tExample Output: 1266-9-*\n",
      "Epoch: 160\tLoss: 24.2149044037\tExample Output: -044--518+\n",
      "Saving Weight\n",
      "Epoch: 161\tLoss: 24.217108345\tExample Output: 5/007Y\n",
      "Epoch: 162\tLoss: 24.2177434921\tExample Output: 0X+YY/+624866/2\n",
      "Epoch: 163\tLoss: 24.2106454849\tExample Output: 8+6136*/38072X+1Y6-210/60X3X\n",
      "Epoch: 164\tLoss: 24.214033699\tExample Output: 8Y9444*-8/2+00/7-5+241-*3X+\n",
      "Epoch: 165\tLoss: 24.2153383255\tExample Output: 245*Y8+X2226+9783450X+0098\n",
      "Epoch: 166\tLoss: 24.2220876694\tExample Output: 66363-80X1Y8-Y47868/*-8Y9+195+\n",
      "Epoch: 167\tLoss: 24.2231395721\tExample Output: Y-5*877488-4Y/\n",
      "Epoch: 168\tLoss: 24.2136470795\tExample Output: 16Y512464705*12+104Y7\n",
      "Epoch: 169\tLoss: 24.1920417786\tExample Output: 477943X5X+/7Y5864Y3-3X562\n",
      "Epoch: 170\tLoss: 24.1702713013\tExample Output: 949/64*3953--1Y78816+6-*5++182\n",
      "Saving Weight\n",
      "Epoch: 171\tLoss: 24.1607540131\tExample Output: Y*/782/640/**53291/853872*--Y4\n",
      "Epoch: 172\tLoss: 24.1448137283\tExample Output: 236106*827+\n",
      "Epoch: 173\tLoss: 24.1185661316\tExample Output: Y80696*Y618501+7Y+8*9*-/9*Y*58\n",
      "Epoch: 174\tLoss: 24.1004213333\tExample Output: 6X/2Y0251*8*346+551151/4818-9\n",
      "Epoch: 175\tLoss: 24.0827957153\tExample Output: 55259+X7+Y/4-1327X\n",
      "Epoch: 176\tLoss: 24.0581624985\tExample Output: 10643XY/8*-\n",
      "Epoch: 177\tLoss: 24.034826088\tExample Output: 0444991701-Y*X8980085*3+2Y855*\n",
      "Epoch: 178\tLoss: 24.0258363724\tExample Output: 48808**03+\n",
      "Epoch: 179\tLoss: 24.0113061905\tExample Output: YY141/*+\n",
      "Epoch: 180\tLoss: 24.0063591003\tExample Output: 554/119*480*41/54819+50+Y622XY\n",
      "Saving Weight\n",
      "Epoch: 181\tLoss: 24.0029359818\tExample Output: Y099/+83\n",
      "Epoch: 182\tLoss: 23.9917348862\tExample Output: 94X5X887+X/-*/*Y17*7Y7+45969/4\n",
      "Epoch: 183\tLoss: 23.9892753601\tExample Output: 201\n",
      "Epoch: 184\tLoss: 23.9787574768\tExample Output: X7*3*Y/15793271-9X\n",
      "Epoch: 185\tLoss: 23.9684850693\tExample Output: 7Y-YY4\n",
      "Epoch: 186\tLoss: 23.9516069412\tExample Output: 98\n",
      "Epoch: 187\tLoss: 23.938287735\tExample Output: 621Y90++19/76+529Y282\n",
      "Epoch: 188\tLoss: 23.9543746948\tExample Output: 4\n",
      "Epoch: 189\tLoss: 23.975213623\tExample Output: 73*9X00\n",
      "Epoch: 190\tLoss: 23.9799161911\tExample Output: 108Y392+1079+/11\n",
      "Saving Weight\n",
      "Epoch: 191\tLoss: 23.9801557541\tExample Output: 493/1X2682+8539+-*9611*6*5+49*\n",
      "Epoch: 192\tLoss: 23.9861639023\tExample Output: 859Y++7-8-+0/*63279/*+84+0*Y9+\n",
      "Epoch: 193\tLoss: 23.9633525848\tExample Output: +7-*2\n",
      "Epoch: 194\tLoss: 23.9443151474\tExample Output: 87*X565-/6*-6/553/-73Y4575855\n"
     ]
    }
   ],
   "source": [
    "pgModel.train(input=np.ones((1,1,1)))"
   ]
  },
  {
   "cell_type": "code",
   "execution_count": null,
   "metadata": {
    "collapsed": true
   },
   "outputs": [],
   "source": []
  }
 ],
 "metadata": {
  "kernelspec": {
   "display_name": "Python 3",
   "language": "python",
   "name": "python3"
  },
  "language_info": {
   "codemirror_mode": {
    "name": "ipython",
    "version": 3
   },
   "file_extension": ".py",
   "mimetype": "text/x-python",
   "name": "python",
   "nbconvert_exporter": "python",
   "pygments_lexer": "ipython3",
   "version": "3.6.2"
  }
 },
 "nbformat": 4,
 "nbformat_minor": 1
}
