{
 "cells": [
  {
   "cell_type": "code",
   "execution_count": 57,
   "metadata": {
    "collapsed": true
   },
   "outputs": [],
   "source": [
    "import numpy as np\n",
    "from Cost_Calculator import Cost_Calculator\n",
    "from keras.models import Sequential, Model\n",
    "from keras.layers import TimeDistributed, Dense, Reshape, Flatten, GRU, Input, Embedding\n",
    "from keras.optimizers import Adam\n",
    "from keras.layers.convolutional import Convolution2D"
   ]
  },
  {
   "cell_type": "code",
   "execution_count": 58,
   "metadata": {
    "collapsed": true
   },
   "outputs": [],
   "source": [
    "ALLOWED_PARAMETERS = 'XY'.split()\n",
    "ALLOWED_SYMBOLS = ALLOW_PARAMETERS + '0123456789+-*/#'.split()\n",
    "NUM_SYMBOLS = len(ALLOW_SYMBOLS)\n",
    "MAX_LENGTH = 30"
   ]
  },
  {
   "cell_type": "code",
   "execution_count": 59,
   "metadata": {
    "collapsed": true
   },
   "outputs": [],
   "source": [
    "costCalculator = Cost_Calculator(correctExpression=\"3*X+2*Y\",\n",
    "                                 parameters=['X','Y'])"
   ]
  },
  {
   "cell_type": "code",
   "execution_count": 60,
   "metadata": {
    "collapsed": true
   },
   "outputs": [],
   "source": [
    "def getModel():\n",
    "    # Trying to neglect input\n",
    "    input1 = Input(shape=(1,))\n",
    "    # TODO: Add noise layer to make output vary\n",
    "    x = Embedding(input_dim=1, output_dim=1)(input1)\n",
    "    x = GRU(32)(x)\n",
    "    #x = Flatten()(x)\n",
    "    out = Dense(NUM_SYMBOLS, activation='sigmoid')(x)\n",
    "\n",
    "\n",
    "    model = Model(inputs=input1, outputs=out)\n",
    "    model.compile(optimizer=Adam(),\n",
    "                loss='categorical_crossentropy',\n",
    "                metrics=['acc'])\n",
    "    return model"
   ]
  },
  {
   "cell_type": "code",
   "execution_count": 61,
   "metadata": {
    "collapsed": true
   },
   "outputs": [],
   "source": [
    "def remember(self, state, action, prob, reward):\n",
    "    pass\n",
    "#     y = np.zeros([self.action_size])\n",
    "#     y[action] = 1\n",
    "#     self.gradients.append(np.array(y).astype('float32') - prob)\n",
    "#     self.states.append(state)\n",
    "#     self.rewards.append(reward)"
   ]
  },
  {
   "cell_type": "code",
   "execution_count": null,
   "metadata": {
    "collapsed": true
   },
   "outputs": [],
   "source": [
    "def act(self, state):\n",
    "    pass\n",
    "#     state = state.reshape([1, state.shape[0]])\n",
    "#     aprob = self.model.predict(state, batch_size=1).flatten()\n",
    "#     self.probs.append(aprob)\n",
    "#     prob = aprob / np.sum(aprob)\n",
    "#     action = np.random.choice(self.action_size, 1, p=prob)[0]\n",
    "#     return action, prob"
   ]
  },
  {
   "cell_type": "markdown",
   "metadata": {},
   "source": [
    "## TRAINING"
   ]
  },
  {
   "cell_type": "code",
   "execution_count": 62,
   "metadata": {
    "collapsed": true
   },
   "outputs": [],
   "source": [
    "model = getModel()"
   ]
  }
 ],
 "metadata": {
  "kernelspec": {
   "display_name": "Python 2",
   "language": "python",
   "name": "python2"
  },
  "language_info": {
   "codemirror_mode": {
    "name": "ipython",
    "version": 2
   },
   "file_extension": ".py",
   "mimetype": "text/x-python",
   "name": "python",
   "nbconvert_exporter": "python",
   "pygments_lexer": "ipython2",
   "version": "2.7.13"
  }
 },
 "nbformat": 4,
 "nbformat_minor": 1
}
